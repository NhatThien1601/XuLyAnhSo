{
 "cells": [
  {
   "cell_type": "code",
   "execution_count": null,
   "id": "3187c1ab",
   "metadata": {},
   "outputs": [],
   "source": [
    "from PIL import Image\n",
    "import math \n",
    "import scipy\n",
    "import numpy as np \n",
    "import imageio.v2 as iio\n",
    "import matplotlib.pylab as plt\n",
    "\n",
    "#open a grayscale image\n",
    "img = Image.open('quang_ninh.jpg').convert('L')\n",
    "#convert image 1 into an ndarray\n",
    "im1 = np.asarray(img)\n",
    "#finding the maximum and minimum pixel values\n",
    "b = im1.max()\n",
    "a = im1.min()\n",
    "print(a, b)\n",
    "#converting im1 to float \n",
    "c = im1.astype(float)\n",
    "#contrast stretching transformation \n",
    "im2 = 255 * (c- a) / (b - a)\n",
    "#im2 is converted from ndarray to image\n",
    "im3 = Image.fromarray(im2)\n",
    "img.show()\n",
    "im3.show()\n",
    "plt.imshow(im3)\n",
    "plt.show()"
   ]
  }
 ],
 "metadata": {
  "language_info": {
   "name": "python"
  }
 },
 "nbformat": 4,
 "nbformat_minor": 5
}
